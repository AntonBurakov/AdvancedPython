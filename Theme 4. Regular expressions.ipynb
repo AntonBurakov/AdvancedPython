{
 "cells": [
  {
   "cell_type": "markdown",
   "id": "a3bc9d45",
   "metadata": {},
   "source": [
    "# Задание 1\n",
    "Напишите функцию, которая принимает на вход строку и проверяет, является ли она валидным транспортным номером (1 буква, 3 цифры, 2 буквы, 2–3 цифры). Обратите внимание, что не все буквы кириллического алфавита используются в транспортных номерах.\n",
    "\n",
    "Если номер валиден, то функция должна возвращать отдельно номер и регион.\n",
    "\n",
    "Примеры работы программы:\n",
    "car_id = 'А222BС96’\n",
    "Результат: Номер А222BС валиден. Регион: 96.\n",
    "\n",
    "car_id = 'АБ22ВВ193’\n",
    "Результат: Номер не валиден."
   ]
  },
  {
   "cell_type": "code",
   "execution_count": 1,
   "id": "8577e770",
   "metadata": {},
   "outputs": [],
   "source": [
    "import re"
   ]
  },
  {
   "cell_type": "code",
   "execution_count": 86,
   "id": "855b6268",
   "metadata": {},
   "outputs": [],
   "source": [
    "car_id = 'А222ВС96'"
   ]
  },
  {
   "cell_type": "code",
   "execution_count": 87,
   "id": "025925a5",
   "metadata": {},
   "outputs": [
    {
     "name": "stdout",
     "output_type": "stream",
     "text": [
      "А222ВС96\n"
     ]
    }
   ],
   "source": [
    "print(car_id)"
   ]
  },
  {
   "cell_type": "code",
   "execution_count": 89,
   "id": "e2698c3a",
   "metadata": {},
   "outputs": [
    {
     "name": "stdout",
     "output_type": "stream",
     "text": [
      "Результат: Номер А222ВС валиден. Регион: 96.\n"
     ]
    }
   ],
   "source": [
    "if re.findall('[АВЕКМНОРСТXУ]\\d{3}[АВЕКМНОРСТXУ]{2}\\d{2}', car_id):\n",
    "    print('Результат: Номер ' + car_id[:6] + ' валиден. Регион: ' + car_id[6:] + '.')\n",
    "else:\n",
    "    print('Результат: Номер не валиден.')"
   ]
  },
  {
   "cell_type": "code",
   "execution_count": null,
   "id": "bec4c803",
   "metadata": {},
   "outputs": [],
   "source": []
  },
  {
   "cell_type": "markdown",
   "id": "2f290666",
   "metadata": {},
   "source": [
    "# Задание 2 — необязательное\n",
    "Напишите функцию, которая будет удалять все последовательные повторы слов из заданной строки при помощи регулярных выражений.\n",
    "\n",
    "Пример работы программы:\n",
    "some_string = ‘Напишите функцию функцию, которая будет будет будет будет удалять все все все все последовательные повторы слов из из из из заданной строки строки при помощи регулярных выражений’\n",
    "\n",
    "Результат: Напишите функцию, которая будет удалять все последовательные повторы слов из заданной строки при помощи регулярных выражений."
   ]
  },
  {
   "cell_type": "code",
   "execution_count": 125,
   "id": "5089986c",
   "metadata": {},
   "outputs": [],
   "source": [
    "some_string = 'Напишите функцию функцию, которая будет будет будет будет удалять все все все все последовательные повторы слов из из из из заданной строки строки при помощи регулярных выражений'"
   ]
  },
  {
   "cell_type": "code",
   "execution_count": 126,
   "id": "8ad8106a",
   "metadata": {},
   "outputs": [],
   "source": [
    "array = re.split('\\W+', some_string)"
   ]
  },
  {
   "cell_type": "code",
   "execution_count": 127,
   "id": "931c2862",
   "metadata": {},
   "outputs": [
    {
     "name": "stdout",
     "output_type": "stream",
     "text": [
      "['Напишите', 'функцию', 'функцию', 'которая', 'будет', 'будет', 'будет', 'будет', 'удалять', 'все', 'все', 'все', 'все', 'последовательные', 'повторы', 'слов', 'из', 'из', 'из', 'из', 'заданной', 'строки', 'строки', 'при', 'помощи', 'регулярных', 'выражений']\n"
     ]
    }
   ],
   "source": [
    "print(array)"
   ]
  },
  {
   "cell_type": "code",
   "execution_count": 128,
   "id": "30fec173",
   "metadata": {},
   "outputs": [
    {
     "name": "stdout",
     "output_type": "stream",
     "text": [
      "[1, 4, 5, 6, 9, 10, 11, 16, 17, 18, 21]\n"
     ]
    }
   ],
   "source": [
    "count = 0\n",
    "counter = []\n",
    "\n",
    "for i in range(0, 26):\n",
    "    if array[i] == array[i+1]:\n",
    "        counter.append(i)\n",
    "print(counter)\n",
    "\n",
    "for y in reversed(counter):\n",
    "    array.pop(y)"
   ]
  },
  {
   "cell_type": "code",
   "execution_count": 129,
   "id": "498594d2",
   "metadata": {},
   "outputs": [
    {
     "name": "stdout",
     "output_type": "stream",
     "text": [
      "['Напишите', 'функцию', 'которая', 'будет', 'удалять', 'все', 'последовательные', 'повторы', 'слов', 'из', 'заданной', 'строки', 'при', 'помощи', 'регулярных', 'выражений']\n"
     ]
    }
   ],
   "source": [
    "print(array)"
   ]
  },
  {
   "cell_type": "code",
   "execution_count": null,
   "id": "8892cdc2",
   "metadata": {},
   "outputs": [],
   "source": []
  }
 ],
 "metadata": {
  "kernelspec": {
   "display_name": "Python 3 (ipykernel)",
   "language": "python",
   "name": "python3"
  },
  "language_info": {
   "codemirror_mode": {
    "name": "ipython",
    "version": 3
   },
   "file_extension": ".py",
   "mimetype": "text/x-python",
   "name": "python",
   "nbconvert_exporter": "python",
   "pygments_lexer": "ipython3",
   "version": "3.11.4"
  }
 },
 "nbformat": 4,
 "nbformat_minor": 5
}
