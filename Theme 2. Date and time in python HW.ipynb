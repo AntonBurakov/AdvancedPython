{
 "cells": [
  {
   "cell_type": "markdown",
   "id": "25459ae2",
   "metadata": {},
   "source": [
    "# Задание 1\n",
    "\n",
    "Печатные газеты использовали свой формат дат для каждого выпуска. Для каждой газеты из списка напишите формат указанной даты для перевода в объект datetime:\n",
    "The Moscow Times - Wednesday, October 2, 2002\n",
    "The Guardian - Friday, 11.10.13\n",
    "Daily News - Thursday, 18 August 1977\n",
    "\n",
    "Пример работы программы\n",
    "Программа должна выводить на экран объекты типа datetime, соответствующие датам в условии задачи"
   ]
  },
  {
   "cell_type": "code",
   "execution_count": 1,
   "id": "c71270a2",
   "metadata": {},
   "outputs": [],
   "source": [
    "from datetime import datetime"
   ]
  },
  {
   "cell_type": "code",
   "execution_count": 2,
   "id": "27330734",
   "metadata": {},
   "outputs": [
    {
     "name": "stdout",
     "output_type": "stream",
     "text": [
      "Wednesday, October 2, 2002\n",
      "2002-10-02 00:00:00\n"
     ]
    }
   ],
   "source": [
    "moscow_times_time = 'Wednesday, October 2, 2002'\n",
    "moscow_times_time_datetime = datetime.strptime(moscow_times_time, '%A, %B %d, %Y')\n",
    "print(moscow_times_time)\n",
    "print(moscow_times_time_datetime)"
   ]
  },
  {
   "cell_type": "code",
   "execution_count": 3,
   "id": "2d5c7ca9",
   "metadata": {},
   "outputs": [
    {
     "name": "stdout",
     "output_type": "stream",
     "text": [
      "2013-10-11 00:00:00\n"
     ]
    }
   ],
   "source": [
    "guardian_time = 'Friday, 11.10.13'\n",
    "guardian_time_datetime = datetime.strptime(guardian_time, '%A, %d.%m.%y')\n",
    "print(guardian_time_datetime)"
   ]
  },
  {
   "cell_type": "code",
   "execution_count": 4,
   "id": "b02ff03f",
   "metadata": {},
   "outputs": [
    {
     "name": "stdout",
     "output_type": "stream",
     "text": [
      "1977-08-18 00:00:00\n"
     ]
    }
   ],
   "source": [
    "daily_news_time = 'Thursday, 18 August 1977'\n",
    "daily_news_time_datetime = datetime.strptime(daily_news_time, '%A, %d %B %Y')\n",
    "print(daily_news_time_datetime)"
   ]
  },
  {
   "cell_type": "markdown",
   "id": "e5c1b068",
   "metadata": {},
   "source": [
    "# Задание 2\n",
    "\n",
    "Задание 2 (не обязательное)\n",
    "Напишите функцию date_range, которая возвращает список дат за период от start_date до end_date. Даты должны вводиться в формате YYYY-MM-DD. В случае неверного формата или при start_date > end_date должен возвращаться пустой список.\n",
    "\n",
    "1\n",
    "2\n",
    "3\n",
    "Примеры работы программы при выводе первых трех строк файла funnel.csv:\n",
    "date_range(‘2022-01-01’, ‘2022-01-03’)\n",
    "[‘2022-01-01’, ‘2022-01-02’, ‘2022-01-03’]"
   ]
  },
  {
   "cell_type": "code",
   "execution_count": 5,
   "id": "3cc247b2",
   "metadata": {},
   "outputs": [
    {
     "name": "stdout",
     "output_type": "stream",
     "text": [
      "Введите начальную дату: 2022-01-01\n",
      "Введите конечную дату: 2022-01-03\n",
      "['2022-01-01', '2022-01-02', '2022-01-03']\n"
     ]
    }
   ],
   "source": [
    "start_date = input('Введите начальную дату: ')\n",
    "end_date = input('Введите конечную дату: ')\n",
    "list_of_dates = ['2022-01-01', '2022-01-02', '2022-01-03']\n",
    "list_of_dates_between_start_and_end = []\n",
    "def date_range(start_date, end_date, list_of_dates):\n",
    "    for i in list_of_dates:\n",
    "        if (start_date <= i) and (i <= end_date):\n",
    "            list_of_dates_between_start_and_end.append(i)\n",
    "    return list_of_dates_between_start_and_end\n",
    "\n",
    "a = date_range(start_date, end_date, list_of_dates)\n",
    "print(a)"
   ]
  }
 ],
 "metadata": {
  "kernelspec": {
   "display_name": "Python 3 (ipykernel)",
   "language": "python",
   "name": "python3"
  },
  "language_info": {
   "codemirror_mode": {
    "name": "ipython",
    "version": 3
   },
   "file_extension": ".py",
   "mimetype": "text/x-python",
   "name": "python",
   "nbconvert_exporter": "python",
   "pygments_lexer": "ipython3",
   "version": "3.11.4"
  }
 },
 "nbformat": 4,
 "nbformat_minor": 5
}
