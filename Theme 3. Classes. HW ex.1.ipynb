{
 "cells": [
  {
   "cell_type": "code",
   "execution_count": 78,
   "id": "fe243870",
   "metadata": {},
   "outputs": [],
   "source": [
    "import requests"
   ]
  },
  {
   "cell_type": "code",
   "execution_count": 79,
   "id": "7c07b057",
   "metadata": {},
   "outputs": [],
   "source": [
    "class Rate:\n",
    "    \n",
    "    def max_currency(self):\n",
    "\n",
    "        self.r = requests.get('https://www.cbr-xml-daily.ru/daily_json.js')\n",
    "        \n",
    "        currency_values = {}\n",
    "        for i in self.r.json()['Valute']:\n",
    "            currency_values[p[i]['Name']] = p[i]['Value']\n",
    "\n",
    "        max_currency = 0\n",
    "        for i in possible_values:\n",
    "            if possible_values[i] > max_currency:\n",
    "                max_currency = possible_values[i]\n",
    "                currency = i\n",
    "\n",
    "        return currency"
   ]
  },
  {
   "cell_type": "code",
   "execution_count": 80,
   "id": "22da0f1a",
   "metadata": {},
   "outputs": [],
   "source": [
    "r = Rate()"
   ]
  },
  {
   "cell_type": "code",
   "execution_count": 81,
   "id": "f57b7b43",
   "metadata": {},
   "outputs": [
    {
     "data": {
      "text/plain": [
       "'СДР (специальные права заимствования)'"
      ]
     },
     "execution_count": 81,
     "metadata": {},
     "output_type": "execute_result"
    }
   ],
   "source": [
    "r.max_currency()"
   ]
  },
  {
   "cell_type": "code",
   "execution_count": null,
   "id": "2ab2bdb7",
   "metadata": {},
   "outputs": [],
   "source": []
  }
 ],
 "metadata": {
  "kernelspec": {
   "display_name": "Python 3 (ipykernel)",
   "language": "python",
   "name": "python3"
  },
  "language_info": {
   "codemirror_mode": {
    "name": "ipython",
    "version": 3
   },
   "file_extension": ".py",
   "mimetype": "text/x-python",
   "name": "python",
   "nbconvert_exporter": "python",
   "pygments_lexer": "ipython3",
   "version": "3.11.4"
  }
 },
 "nbformat": 4,
 "nbformat_minor": 5
}
